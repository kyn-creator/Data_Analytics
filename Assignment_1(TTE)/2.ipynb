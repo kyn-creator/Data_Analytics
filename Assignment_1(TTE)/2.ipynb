{
 "cells": [
  {
   "cell_type": "code",
   "execution_count": 2,
   "id": "4552d98a-7fe4-49c3-9e09-8d4381f46bb8",
   "metadata": {},
   "outputs": [
    {
     "name": "stdout",
     "output_type": "stream",
     "text": [
      "Optimization terminated successfully.\n",
      "         Current function value: 0.681774\n",
      "         Iterations 4\n",
      "Optimization terminated successfully.\n",
      "         Current function value: 0.669591\n",
      "         Iterations 4\n",
      "Optimization terminated successfully.\n",
      "         Current function value: 0.682308\n",
      "         Iterations 4\n",
      "Optimization terminated successfully.\n",
      "         Current function value: 0.675727\n",
      "         Iterations 5\n"
     ]
    },
    {
     "data": {
      "text/plain": [
       "<Axes: xlabel='timeline'>"
      ]
     },
     "execution_count": 2,
     "metadata": {},
     "output_type": "execute_result"
    },
    {
     "data": {
      "image/png": "[encoded data removed]",
      "text/plain": [
       "<Figure size 640x480 with 1 Axes>"
      ]
     },
     "metadata": {},
     "output_type": "display_data"
    }
   ],
   "source": [
    "import os\n",
    "import pandas as pd\n",
    "import numpy as np\n",
    "import statsmodels.api as sm\n",
    "from lifelines import KaplanMeierFitter\n",
    "\n",
    "# 1. Setup - Define directories for saving outputs\n",
    "trial_pp_dir = os.path.join(os.getcwd(), \"trial_pp\")\n",
    "trial_itt_dir = os.path.join(os.getcwd(), \"trial_itt\")\n",
    "os.makedirs(trial_pp_dir, exist_ok=True)\n",
    "os.makedirs(trial_itt_dir, exist_ok=True)\n",
    "\n",
    "# 2. Data Preparation - Load Example Data\n",
    "data_censored = pd.DataFrame({  # Dummy dataset\n",
    "    'id': np.arange(1, 101),\n",
    "    'period': np.random.randint(1, 10, 100),\n",
    "    'treatment': np.random.choice([0, 1], 100),\n",
    "    'outcome': np.random.choice([0, 1], 100),\n",
    "    'eligible': np.random.choice([0, 1], 100),\n",
    "    'age': np.random.randint(30, 70, 100),\n",
    "    'x1': np.random.randn(100),\n",
    "    'x2': np.random.randn(100),\n",
    "    'x3': np.random.randn(100),\n",
    "    'censored': np.random.choice([0, 1], 100)\n",
    "})\n",
    "\n",
    "# 3. Weight Models and Censoring - Logistic Regression for IPCW\n",
    "X = sm.add_constant(data_censored[['age', 'x1', 'x3']])\n",
    "Y = data_censored['treatment']\n",
    "model = sm.Logit(Y, X).fit()\n",
    "data_censored['switch_weight'] = model.predict(X)\n",
    "\n",
    "X_censor = sm.add_constant(data_censored[['x2', 'x1']])\n",
    "Y_censor = 1 - data_censored['censored']\n",
    "censor_model = sm.Logit(Y_censor, X_censor).fit()\n",
    "data_censored['censor_weight'] = censor_model.predict(X_censor)\n",
    "\n",
    "# 4. Calculate Weights - Multiply individual weights\n",
    "data_censored['final_weight'] = data_censored['switch_weight'] * data_censored['censor_weight']\n",
    "\n",
    "# 5. Specify Outcome Model (Placeholder)\n",
    "def fit_outcome_model(data, adjustment_terms=[]):\n",
    "    X = sm.add_constant(data[adjustment_terms]) if adjustment_terms else sm.add_constant(data['age'])\n",
    "    Y = data['outcome']\n",
    "    model = sm.Logit(Y, X).fit()\n",
    "    return model\n",
    "\n",
    "outcome_model = fit_outcome_model(data_censored, adjustment_terms=['x2'])\n",
    "\n",
    "# 6. Expand Trials (Placeholder for Expansion)\n",
    "def expand_trials(data):\n",
    "    return data.copy()  # Placeholder for data expansion logic\n",
    "\n",
    "expanded_data = expand_trials(data_censored)\n",
    "\n",
    "# 7. Load Sample Data\n",
    "def load_sample_data(data, seed=1234, p_control=0.5):\n",
    "    np.random.seed(seed)\n",
    "    return data.sample(frac=p_control)\n",
    "\n",
    "sampled_data = load_sample_data(expanded_data)\n",
    "\n",
    "# 8. Fit Marginal Structural Model\n",
    "def fit_msm(data):\n",
    "    X = sm.add_constant(data[['final_weight']])\n",
    "    Y = data['outcome']\n",
    "    model = sm.Logit(Y, X).fit()\n",
    "    return model\n",
    "\n",
    "msm_model = fit_msm(sampled_data)\n",
    "\n",
    "# 9. Inference using Kaplan-Meier Survival Estimation\n",
    "kmf = KaplanMeierFitter()\n",
    "kmf.fit(durations=data_censored['period'], event_observed=data_censored['outcome'])\n",
    "kmf.plot_survival_function()\n"
   ]
  },
  {
   "cell_type": "code",
   "execution_count": null,
   "id": "c41f0517-5d58-4fe9-8ba2-1ec500107ed3",
   "metadata": {},
   "outputs": [],
   "source": []
  }
 ],
 "metadata": {
  "kernelspec": {
   "display_name": "Python 3 (ipykernel)",
   "language": "python",
   "name": "python3"
  },
  "language_info": {
   "codemirror_mode": {
    "name": "ipython",
    "version": 3
   },
   "file_extension": ".py",
   "mimetype": "text/x-python",
   "name": "python",
   "nbconvert_exporter": "python",
   "pygments_lexer": "ipython3",
   "version": "3.13.2"
  }
 },
 "nbformat": 4,
 "nbformat_minor": 5
}
