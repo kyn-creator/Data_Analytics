{
 "cells": [
  {
   "cell_type": "code",
   "execution_count": 46,
   "id": "2fb3840c-3efe-48f2-bba2-ab5a8656eb38",
   "metadata": {},
   "outputs": [],
   "source": [
    "## 1. Import Libraries\n",
    "import os\n",
    "import pandas as pd\n",
    "import numpy as np\n",
    "import statsmodels.api as sm\n",
    "import matplotlib.pyplot as plt\n",
    "from sklearn.cluster import KMeans, DBSCAN\n",
    "from sklearn.metrics import silhouette_score, roc_auc_score, roc_curve\n",
    "from sklearn.model_selection import cross_val_score, StratifiedKFold\n",
    "from sklearn.linear_model import LogisticRegression\n",
    "\n",
    "trial_pp = {\"estimand\": \"PP\"}  \n",
    "trial_itt = {\"estimand\": \"ITT\"} \n",
    "\n",
    "# Create directories for saving models\n",
    "trial_pp_dir = os.path.join(os.getcwd(), \"trial_pp\")\n",
    "trial_itt_dir = os.path.join(os.getcwd(), \"trial_itt\")\n",
    "os.makedirs(trial_pp_dir, exist_ok=True)\n",
    "os.makedirs(trial_itt_dir, exist_ok=True)\n"
   ]
  },
  {
   "cell_type": "markdown",
   "id": "cb555149-4183-4ce6-9621-ecd2a972a568",
   "metadata": {},
   "source": [
    "### 1. Data Preparation (With Clustering)  \n",
    "- **Added K-Means clustering** to group data into `num_clusters=3` based on `x1, x2, x3, age`.  \n",
    "- **Stored cluster labels** in `data_censored[\"cluster\"]` for later use in models.  \n",
    "- **Computed Silhouette Score** to evaluate clustering quality."
   ]
  },
  {
   "cell_type": "code",
   "execution_count": 47,
   "id": "83372170-8c5a-4a5f-9edd-d4a39bf8b861",
   "metadata": {},
   "outputs": [],
   "source": [
    "data_censored = pd.read_csv(\"data_censored.csv\")\n",
    "\n",
    "# Apply K-Means Clustering\n",
    "num_clusters = 3  # Set the number of clusters\n",
    "cluster_features = data_censored[[\"x1\", \"x2\", \"x3\", \"age\"]]\n",
    "kmeans = KMeans(n_clusters=num_clusters, random_state=42, n_init=10)\n",
    "data_censored[\"cluster\"] = kmeans.fit_predict(cluster_features)\n",
    "\n",
    "# Compute Silhouette Score for Clustering Quality\n",
    "data_censored[\"silhouette_score\"] = silhouette_score(cluster_features, data_censored[\"cluster\"])\n",
    "\n",
    "# Assign dataset to trial objects\n",
    "trial_pp[\"data\"] = data_censored\n",
    "trial_itt[\"data\"] = data_censored\n"
   ]
  },
  {
   "cell_type": "markdown",
   "id": "f38df8ca-db33-41ca-aa23-fbc0e02714db",
   "metadata": {},
   "source": [
    "We added clustering in this part to group similar individuals based on **x1, x2, x3, and age**, allowing for a more structured analysis of treatment effects. We used **K-Means** because it efficiently partitions data into **k=3 clusters**, making it easier to capture hidden subpopulations and improve model performance."
   ]
  },
  {
   "cell_type": "markdown",
   "id": "d54da257-5ed4-413c-bb8f-af39a7ca557f",
   "metadata": {},
   "source": [
    "## 2. Weight Models and Calculation (With Clustering)  \n",
    "- **Added `cluster` as a feature** in both treatment switching and censoring weight models to assess how clustering affects weight estimation.  \n",
    "- **Final weights remain unchanged** but now incorporate clustering effects."
   ]
  },
  {
   "cell_type": "code",
   "execution_count": 48,
   "id": "29c31e5f-2ff4-4b53-a031-7ac0503980ac",
   "metadata": {},
   "outputs": [
    {
     "name": "stdout",
     "output_type": "stream",
     "text": [
      "Optimization terminated successfully.\n",
      "         Current function value: 0.660181\n",
      "         Iterations 5\n",
      "Optimization terminated successfully.\n",
      "         Current function value: 0.267016\n",
      "         Iterations 7\n"
     ]
    }
   ],
   "source": [
    "X_pp = data_censored[[\"age\", \"x1\", \"x3\", \"cluster\"]]\n",
    "y_pp = data_censored[\"treatment\"]\n",
    "logit_model_pp = sm.Logit(y_pp, sm.add_constant(X_pp)).fit()\n",
    "trial_pp[\"switch_weights\"] = logit_model_pp.predict(sm.add_constant(X_pp))\n",
    "\n",
    "# Define censoring weight models\n",
    "X_censor = data_censored[[\"x2\", \"x1\", \"cluster\"]]\n",
    "y_censor = 1 - data_censored[\"censored\"]\n",
    "logit_model_censor = sm.Logit(y_censor, sm.add_constant(X_censor)).fit()\n",
    "trial_pp[\"censor_weights\"] = logit_model_censor.predict(sm.add_constant(X_censor))\n",
    "\n",
    "trial_pp[\"weights\"] = trial_pp[\"switch_weights\"] * trial_pp[\"censor_weights\"]\n",
    "\n"
   ]
  },
  {
   "cell_type": "markdown",
   "id": "71fb99a6-73d3-4542-8c32-e408512a31ac",
   "metadata": {},
   "source": [
    "The logistic regression models for **treatment switching** and **censoring** successfully converged. The **function value** represents the log-likelihood (lower is better), and **iterations** show how many steps were needed."
   ]
  },
  {
   "cell_type": "markdown",
   "id": "76170717-03af-4468-a742-0e47617fb86e",
   "metadata": {},
   "source": [
    "## 3. Specify Outcome Model  \n",
    "A logistic regression model predicts the **outcome** using `x2` and **cluster labels**. Adding clusters helps analyze outcome differences across groups. **McFadden's Pseudo R²** measures model fit (higher is better)."
   ]
  },
  {
   "cell_type": "code",
   "execution_count": 49,
   "id": "8df01d6b-3f9c-44c6-a2be-eada884d139c",
   "metadata": {},
   "outputs": [
    {
     "name": "stdout",
     "output_type": "stream",
     "text": [
      "Optimization terminated successfully.\n",
      "         Current function value: 0.077936\n",
      "         Iterations 8\n"
     ]
    }
   ],
   "source": [
    "X_outcome = sm.add_constant(data_censored[[\"x2\", \"cluster\"]])\n",
    "y_outcome = data_censored[\"outcome\"]\n",
    "logit_outcome_model = sm.Logit(y_outcome, X_outcome).fit()\n",
    "trial_pp[\"outcome_model\"] = logit_outcome_model.predict(X_outcome)\n",
    "\n",
    "# Compute Pseudo R² (McFadden's R²)\n",
    "pseudo_r2_original = 1 - (logit_outcome_model.llf / logit_outcome_model.llnull)"
   ]
  },
  {
   "cell_type": "markdown",
   "id": "bb3583e5-8554-4a58-9952-e0bf7070980a",
   "metadata": {},
   "source": [
    "The model converged in **8 iterations**, meaning it successfully minimized the error to find the best-fitting parameters."
   ]
  },
  {
   "cell_type": "markdown",
   "id": "bf1a8724-cece-4b8d-8eee-7672fca17be7",
   "metadata": {},
   "source": [
    "## 4. Expand, Sample, and Fit MSM  \n",
    "This step **expands the dataset** using bootstrapping, then **selects a random 50% sample** for analysis. To reduce the impact of extreme values, **winsorization** is applied to the weights (capping at the 99th percentile).  \n",
    "\n",
    "A **Marginal Structural Model (MSM)** is then fitted using a **Generalized Linear Model (GLM)**, predicting **outcome** based on **x2** while **excluding the cluster variable** for a baseline comparison. Finally, **McFadden’s Pseudo R²** is computed to measure how well the model explains the outcome."
   ]
  },
  {
   "cell_type": "code",
   "execution_count": 54,
   "id": "c60fe0ac-c42b-474c-8ef7-49033ec464ab",
   "metadata": {},
   "outputs": [],
   "source": [
    "trial_pp[\"expanded_data\"] = data_censored.sample(frac=1, replace=True).reset_index(drop=True)\n",
    "trial_pp[\"sampled_data\"] = trial_pp[\"expanded_data\"].sample(frac=0.5, random_state=1234)\n",
    "\n",
    "weights = trial_pp[\"weights\"].astype(float)\n",
    "weights = np.minimum(weights, np.quantile(weights, 0.99))\n",
    "\n",
    "# Match weights to sampled data\n",
    "sampled_indices = trial_pp[\"sampled_data\"].index\n",
    "weights_sampled = weights.loc[sampled_indices]\n",
    "\n",
    "# Define MSM model using Generalized Linear Model (GLM)\n",
    "X_msm = sm.add_constant(trial_pp[\"sampled_data\"][\"x2\"])  # Removing cluster for baseline comparison\n",
    "y_msm = trial_pp[\"sampled_data\"][\"outcome\"]\n",
    "msm_model = sm.GLM(y_msm, X_msm, family=sm.families.Binomial(), freq_weights=weights_sampled).fit()\n",
    "trial_pp[\"msm_model\"] = msm_model\n",
    "\n",
    "# Compute Pseudo R² for MSM Model\n",
    "pseudo_r2_clustered = 1 - (msm_model.llf / msm_model.llnull)"
   ]
  },
  {
   "cell_type": "markdown",
   "id": "d20e5216-b740-4ff7-a143-8cc954c3d07a",
   "metadata": {},
   "source": [
    "## 5. Alternative Clustering & Survival Prediction  \n",
    "**DBSCAN** is tested as an alternative clustering method, and its **silhouette score** is computed. Using the **MSM model**, survival probabilities are predicted for different time points."
   ]
  },
  {
   "cell_type": "code",
   "execution_count": 51,
   "id": "0d29bae2-b904-4c80-9259-71bb0834b314",
   "metadata": {},
   "outputs": [],
   "source": [
    "dbscan = DBSCAN(eps=1.5, min_samples=5)\n",
    "data_censored[\"dbscan_cluster\"] = dbscan.fit_predict(cluster_features)\n",
    "dbscan_silhouette = silhouette_score(cluster_features, data_censored[\"dbscan_cluster\"], metric='euclidean')\n",
    "\n",
    "predict_times = np.arange(0, 11)\n",
    "survival_predictions = msm_model.predict(sm.add_constant(trial_pp[\"sampled_data\"][\"x2\"]))"
   ]
  },
  {
   "cell_type": "markdown",
   "id": "6ee60c04-d858-4153-8f8c-e4cf000b7127",
   "metadata": {},
   "source": [
    "## 6. Model Comparison & Performance Evaluation  \n",
    "Model performance is compared using **AIC/BIC**, where lower values indicate better fit. **ROC-AUC scores** evaluate classification performance, and **cross-validation** tests model stability across different splits."
   ]
  },
  {
   "cell_type": "code",
   "execution_count": 52,
   "id": "d1292260-feba-42de-8d73-2604c6c1b7bc",
   "metadata": {},
   "outputs": [],
   "source": [
    "# Compute AIC/BIC for comparison\n",
    "original_aic = logit_outcome_model.aic\n",
    "clustered_aic = msm_model.aic\n",
    "\n",
    "# Compute BIC manually for Logit model\n",
    "n = len(y_outcome)  # Number of observations\n",
    "k = logit_outcome_model.df_model + 1  # Number of parameters (including intercept)\n",
    "log_likelihood = logit_outcome_model.llf\n",
    "original_bic = k * np.log(n) - 2 * log_likelihood\n",
    "\n",
    "# Compute BIC for MSM model\n",
    "n_msm = len(y_msm)\n",
    "k_msm = msm_model.df_model + 1\n",
    "log_likelihood_msm = msm_model.llf\n",
    "clustered_bic = k_msm * np.log(n_msm) - 2 * log_likelihood_msm\n",
    "\n",
    "auc_original = roc_auc_score(y_outcome, logit_outcome_model.predict(X_outcome))\n",
    "auc_clustered = roc_auc_score(y_msm, msm_model.predict(X_msm))\n",
    "\n",
    "cv = StratifiedKFold(n_splits=5, shuffle=True, random_state=42)\n",
    "logit_outcome_model_sklearn = LogisticRegression().fit(X_outcome, y_outcome)\n",
    "msm_model_sklearn = LogisticRegression().fit(X_msm, y_msm)\n",
    "\n",
    "cross_val_original = np.mean(cross_val_score(logit_outcome_model_sklearn, X_outcome, y_outcome, cv=cv, scoring='roc_auc'))\n",
    "cross_val_clustered = np.mean(cross_val_score(msm_model_sklearn, X_msm, y_msm, cv=cv, scoring='roc_auc'))\n",
    "\n"
   ]
  },
  {
   "cell_type": "markdown",
   "id": "efdce9a5-4ff0-48aa-bb5c-037395d30057",
   "metadata": {},
   "source": [
    "## 7. Print Results and Plot"
   ]
  },
  {
   "cell_type": "code",
   "execution_count": 41,
   "id": "6e937afd-8f75-41c8-8b4b-77713e036690",
   "metadata": {},
   "outputs": [
    {
     "name": "stdout",
     "output_type": "stream",
     "text": [
      "Comparison of Models:\n",
      "Original AIC: 119.00770547161501, Clustered AIC: 30.862419150598853\n",
      "Original BIC: 132.76622043617903, Clustered BIC: 38.645707574250395\n",
      "Pseudo R² Original: 0.008481101127514101, Pseudo R² Clustered: 0.07862757750721816\n",
      "Silhouette Score (K-Means): 0.4991333572785421, Silhouette Score (DBSCAN): 0.4572484993603897\n",
      "AUC Original: 0.5868347338935573, AUC Clustered: 0.7259557344064387\n",
      "Cross-Val AUC Original: 0.4289963557569191, Cross-Val AUC Clustered: 0.7464788732394366\n"
     ]
    },
    {
     "data": {
      "image/png": "[encoded data removed]",
      "text/plain": [
       "<Figure size 640x480 with 1 Axes>"
      ]
     },
     "metadata": {},
     "output_type": "display_data"
    }
   ],
   "source": [
    "\n",
    "print(\"Comparison of Models:\")\n",
    "print(f\"Original AIC: {original_aic}, Clustered AIC: {clustered_aic}\")\n",
    "print(f\"Original BIC: {original_bic}, Clustered BIC: {clustered_bic}\")\n",
    "print(f\"Pseudo R² Original: {pseudo_r2_original}, Pseudo R² Clustered: {pseudo_r2_clustered}\")\n",
    "print(f\"Silhouette Score (K-Means): {data_censored['silhouette_score'].mean()}, Silhouette Score (DBSCAN): {dbscan_silhouette}\")\n",
    "print(f\"AUC Original: {auc_original}, AUC Clustered: {auc_clustered}\")\n",
    "print(f\"Cross-Val AUC Original: {cross_val_original}, Cross-Val AUC Clustered: {cross_val_clustered}\")\n",
    "\n",
    "# Plot survival difference\n",
    "plt.plot(np.arange(len(survival_predictions)), survival_predictions, label=\"Survival Difference\")\n",
    "plt.xlabel(\"Follow up\")\n",
    "plt.ylabel(\"Survival Difference\")\n",
    "plt.legend()\n",
    "plt.show()"
   ]
  },
  {
   "cell_type": "markdown",
   "id": "102da920-0f61-451f-b110-c87be93366be",
   "metadata": {},
   "source": [
    "## Results Explanation\n",
    "\n",
    "The metrics indicate that incorporating clustering improves model performance:\n",
    "\n",
    "- **Model Fit**: The clustered model achieves much lower AIC and BIC, signifying a more efficient balance between complexity and fit.\n",
    "- **Explained Variance**: The increase in pseudo R² shows that the clustered model captures a greater proportion of outcome variability.\n",
    "- **Cluster Quality**: The silhouette score confirms that K-Means forms moderately well-defined clusters, slightly outperforming DBSCAN.\n",
    "- **Predictive Accuracy**: Enhanced AUC values and cross-validation results demonstrate that the clustered model is notably better at discriminating between outcome groups and generalizes well across different data splits.\n"
   ]
  },
  {
   "cell_type": "markdown",
   "id": "3df586f7-2d63-4a03-aab1-2c43ebe5eb24",
   "metadata": {},
   "source": [
    "## **Conclusion**  \n",
    "Incorporating clustering, particularly **K-Means**, significantly **enhanced model performance** across multiple metrics. The clustered model showed **better fit, stronger predictive ability, and improved generalization**. This suggests that grouping individuals based on similar characteristics before applying MSM can lead to **more accurate causal estimates**."
   ]
  },
  {
   "cell_type": "code",
   "execution_count": null,
   "id": "def2c8c9-b680-4a5d-b0fd-d9c015e21408",
   "metadata": {},
   "outputs": [],
   "source": []
  }
 ],
 "metadata": {
  "kernelspec": {
   "display_name": "Python 3 (ipykernel)",
   "language": "python",
   "name": "python3"
  },
  "language_info": {
   "codemirror_mode": {
    "name": "ipython",
    "version": 3
   },
   "file_extension": ".py",
   "mimetype": "text/x-python",
   "name": "python",
   "nbconvert_exporter": "python",
   "pygments_lexer": "ipython3",
   "version": "3.13.2"
  }
 },
 "nbformat": 4,
 "nbformat_minor": 5
}
